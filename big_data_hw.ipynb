{
 "cells": [
  {
   "cell_type": "code",
   "execution_count": 33,
   "metadata": {},
   "outputs": [],
   "source": [
    "from pyspark.sql import SparkSession\n",
    "spark = SparkSession.builder.appName('dartlings').getOrCreate()\n",
    "from pyspark import SparkFiles"
   ]
  },
  {
   "cell_type": "code",
   "execution_count": 42,
   "metadata": {},
   "outputs": [
    {
     "name": "stdout",
     "output_type": "stream",
     "text": [
      "+-----------+-----------+--------------+----------+--------------+--------------------+----------------+-----------+-------------+-----------+----+-----------------+--------------------+--------------------+-----------+\n",
      "|marketplace|customer_id|     review_id|product_id|product_parent|       product_title|product_category|star_rating|helpful_votes|total_votes|vine|verified_purchase|     review_headline|         review_body|review_date|\n",
      "+-----------+-----------+--------------+----------+--------------+--------------------+----------------+-----------+-------------+-----------+----+-----------------+--------------------+--------------------+-----------+\n",
      "|         US|   18778586| RDIJS7QYB6XNR|B00EDBY7X8|     122952789|Monopoly Junior B...|            Toys|          5|            0|          0|   N|                Y|          Five Stars|        Excellent!!!| 2015-08-31|\n",
      "|         US|   24769659|R36ED1U38IELG8|B00D7JFOPC|     952062646|56 Pieces of Wood...|            Toys|          5|            0|          0|   N|                Y|Good quality trac...|Great quality woo...| 2015-08-31|\n",
      "|         US|   44331596| R1UE3RPRGCOLD|B002LHA74O|     818126353|Super Jumbo Playi...|            Toys|          2|            1|          1|   N|                Y|           Two Stars|Cards are not as ...| 2015-08-31|\n",
      "|         US|   23310293|R298788GS6I901|B00ARPLCGY|     261944918|Barbie Doll and F...|            Toys|          5|            0|          0|   N|                Y|my daughter loved...|my daughter loved...| 2015-08-31|\n",
      "|         US|   38745832|  RNX4EXOBBPN5|B00UZOPOFW|     717410439|Emazing Lights eL...|            Toys|          1|            1|          1|   N|                Y|     DONT BUY THESE!|Do not buy these!...| 2015-08-31|\n",
      "|         US|   13394189|R3BPETL222LMIM|B009B7F6CA|     873028700|Melissa & Doug Wa...|            Toys|          5|            0|          0|   N|                Y|          Five Stars|Great item. Pictu...| 2015-08-31|\n",
      "|         US|    2749569|R3SORMPJZO3F2J|B0101EHRSM|     723424342|Big Bang Cosmic P...|            Toys|          3|            2|          2|   N|                Y|         Three Stars|To keep together,...| 2015-08-31|\n",
      "|         US|   41137196|R2RDOJQ0WBZCF6|B00407S11Y|     383363775|Fun Express Insec...|            Toys|          5|            0|          0|   N|                Y|          Five Stars|I was pleased wit...| 2015-08-31|\n",
      "|         US|     433677|R2B8VBEPB4YEZ7|B00FGPU7U2|     780517568|Fisher-Price Octo...|            Toys|          5|            0|          0|   N|                Y|          Five Stars|    Children like it| 2015-08-31|\n",
      "|         US|    1297934|R1CB783I7B0U52|B0013OY0S0|     269360126|Claw Climber Goli...|            Toys|          1|            0|          1|   N|                Y|Shame on the sell...|Showed up not how...| 2015-08-31|\n",
      "|         US|   52006292| R2D90RQQ3V8LH|B00519PJTW|     493486387|100 Foot Multicol...|            Toys|          5|            0|          0|   N|                Y|          Five Stars|Really liked thes...| 2015-08-31|\n",
      "|         US|   32071052|R1Y4ZOUGFMJ327|B001TCY2DO|     459122467|Pig Jumbo Foil Ba...|            Toys|          5|            0|          0|   N|                Y|   Nice huge balloon|Nice huge balloon...| 2015-08-31|\n",
      "|         US|    7360347|R2BUV9QJI2A00X|B00DOQCWF8|     226984155|Minecraft Animal ...|            Toys|          5|            0|          1|   N|                Y|          Five Stars|          Great deal| 2015-08-31|\n",
      "|         US|   11613707| RSUHRJFJIRB3Z|B004C04I4I|     375659886|Disney Baby: Eeyo...|            Toys|          4|            0|          0|   N|                Y|          Four Stars|       As Advertised| 2015-08-31|\n",
      "|         US|   13545982|R1T96CG98BBA15|B00NWGEKBY|     933734136|Team Losi 8IGHT-E...|            Toys|          3|            2|          4|   N|                Y|... servo so expe...|Comes w a 15$ ser...| 2015-08-31|\n",
      "|         US|   43880421| R2ATXF4QQ30YW|B00000JS5S|     341842639|Hot Wheels 48- Ca...|            Toys|          5|            0|          0|   N|                Y|          Five Stars|   awesome ! Thanks!| 2015-08-31|\n",
      "|         US|    1662075|R1YS3DS218NNMD|B00XPWXYDK|     210135375|ZuZo 2.4GHz 4 CH ...|            Toys|          5|            4|          4|   N|                N|The closest relev...|I got this item f...| 2015-08-31|\n",
      "|         US|   18461411|R2SDXLTLF92O0H|B00VPXX92W|     705054378|Teenage Mutant Ni...|            Toys|          5|            0|          0|   N|                Y|          Five Stars|It was a birthday...| 2015-08-31|\n",
      "|         US|   27225859| R4R337CCDWLNG|B00YRA3H4U|     223420727|Franklin Sports M...|            Toys|          3|            0|          1|   Y|                N|Got wrong product...|Got a wrong produ...| 2015-08-31|\n",
      "|         US|   20494593|R32Z6UA4S5Q630|B009T8BSQY|     787701676|Alien Frontiers: ...|            Toys|          1|            0|          0|   N|                Y|         Overpriced.|You need expansio...| 2015-08-31|\n",
      "+-----------+-----------+--------------+----------+--------------+--------------------+----------------+-----------+-------------+-----------+----+-----------------+--------------------+--------------------+-----------+\n",
      "only showing top 20 rows\n",
      "\n"
     ]
    }
   ],
   "source": [
    "url =\"https://s3.amazonaws.com/amazon-reviews-pds/tsv/sample_us.tsv\"\n",
    "spark.sparkContext.addFile(url)\n",
    "df = spark.read.csv(SparkFiles.get(\"sample_us.tsv\"), sep=\"\\t\", header=True)\n",
    "\n",
    "# Show DataFrame\n",
    "df.show()"
   ]
  },
  {
   "cell_type": "code",
   "execution_count": 4,
   "metadata": {},
   "outputs": [
    {
     "data": {
      "text/plain": [
       "['marketplace',\n",
       " 'customer_id',\n",
       " 'review_id',\n",
       " 'product_id',\n",
       " 'product_parent',\n",
       " 'product_title',\n",
       " 'product_category',\n",
       " 'star_rating',\n",
       " 'helpful_votes',\n",
       " 'total_votes',\n",
       " 'vine',\n",
       " 'verified_purchase',\n",
       " 'review_headline',\n",
       " 'review_body',\n",
       " 'review_date']"
      ]
     },
     "execution_count": 4,
     "metadata": {},
     "output_type": "execute_result"
    }
   ],
   "source": [
    "df.columns"
   ]
  },
  {
   "cell_type": "code",
   "execution_count": 5,
   "metadata": {},
   "outputs": [
    {
     "data": {
      "text/plain": [
       "<bound method DataFrame.printSchema of DataFrame[marketplace: string, customer_id: string, review_id: string, product_id: string, product_parent: string, product_title: string, product_category: string, star_rating: string, helpful_votes: string, total_votes: string, vine: string, verified_purchase: string, review_headline: string, review_body: string, review_date: string]>"
      ]
     },
     "execution_count": 5,
     "metadata": {},
     "output_type": "execute_result"
    }
   ],
   "source": [
    "df.printSchema"
   ]
  },
  {
   "cell_type": "code",
   "execution_count": 6,
   "metadata": {},
   "outputs": [
    {
     "data": {
      "text/plain": [
       "[StructField(marketplace,StringType,true),\n",
       " StructField(customer_id,IntegerType,true),\n",
       " StructField(reviewed_id,StringType,true),\n",
       " StructField(product_id,StringType,true),\n",
       " StructField(product_parent,IntegerType,true),\n",
       " StructField(product_title,StringType,true),\n",
       " StructField(product_category,StringType,true),\n",
       " StructField(star_rating,IntegerType,true),\n",
       " StructField(helpful_votes,IntegerType,true),\n",
       " StructField(total_votes,IntegerType,true),\n",
       " StructField(vine,StringType,true),\n",
       " StructField(verified_purchase,StringType,true),\n",
       " StructField(review_headline,StringType,true),\n",
       " StructField(review_body,StringType,true),\n",
       " StructField(review_date,DateType,true)]"
      ]
     },
     "execution_count": 6,
     "metadata": {},
     "output_type": "execute_result"
    }
   ],
   "source": [
    "from pyspark.sql.types import StructField, StringType, IntegerType, StructType\n",
    "from pyspark.sql.types import DateType\n",
    "\n",
    "schema = [StructField(\"marketplace\", StringType(), True),\\\n",
    "          StructField(\"customer_id\", IntegerType(), True),\\\n",
    "          StructField(\"reviewed_id\", StringType(), True),\\\n",
    "          StructField(\"product_id\", StringType(), True),\\\n",
    "          StructField(\"product_parent\", IntegerType(), True),\\\n",
    "          StructField(\"product_title\", StringType(), True),\\\n",
    "          StructField(\"product_category\", StringType(), True),\\\n",
    "          StructField(\"star_rating\", IntegerType(), True),\\\n",
    "          StructField(\"helpful_votes\", IntegerType(), True),\\\n",
    "          StructField(\"total_votes\", IntegerType(), True),\\\n",
    "          StructField(\"vine\", StringType(), True),\\\n",
    "          StructField(\"verified_purchase\", StringType(), True),\\\n",
    "          StructField(\"review_headline\", StringType(), True),\\\n",
    "          StructField(\"review_body\", StringType(), True),\\\n",
    "          StructField(\"review_date\", DateType(), True)\\\n",
    "          ,]\n",
    "\n",
    "schema"
   ]
  },
  {
   "cell_type": "code",
   "execution_count": 7,
   "metadata": {},
   "outputs": [
    {
     "data": {
      "text/plain": [
       "StructType(List(StructField(marketplace,StringType,true),StructField(customer_id,IntegerType,true),StructField(reviewed_id,StringType,true),StructField(product_id,StringType,true),StructField(product_parent,IntegerType,true),StructField(product_title,StringType,true),StructField(product_category,StringType,true),StructField(star_rating,IntegerType,true),StructField(helpful_votes,IntegerType,true),StructField(total_votes,IntegerType,true),StructField(vine,StringType,true),StructField(verified_purchase,StringType,true),StructField(review_headline,StringType,true),StructField(review_body,StringType,true),StructField(review_date,DateType,true)))"
      ]
     },
     "execution_count": 7,
     "metadata": {},
     "output_type": "execute_result"
    }
   ],
   "source": [
    "final = StructType(fields=schema)\n",
    "final"
   ]
  },
  {
   "cell_type": "code",
   "execution_count": 8,
   "metadata": {},
   "outputs": [
    {
     "name": "stdout",
     "output_type": "stream",
     "text": [
      "+-----------+-----------+--------------+----------+--------------+--------------------+----------------+-----------+-------------+-----------+----+-----------------+--------------------+--------------------+-----------+\n",
      "|marketplace|customer_id|   reviewed_id|product_id|product_parent|       product_title|product_category|star_rating|helpful_votes|total_votes|vine|verified_purchase|     review_headline|         review_body|review_date|\n",
      "+-----------+-----------+--------------+----------+--------------+--------------------+----------------+-----------+-------------+-----------+----+-----------------+--------------------+--------------------+-----------+\n",
      "|         US|   18778586| RDIJS7QYB6XNR|B00EDBY7X8|     122952789|Monopoly Junior B...|            Toys|          5|            0|          0|   N|                Y|          Five Stars|        Excellent!!!| 2015-08-31|\n",
      "|         US|   24769659|R36ED1U38IELG8|B00D7JFOPC|     952062646|56 Pieces of Wood...|            Toys|          5|            0|          0|   N|                Y|Good quality trac...|Great quality woo...| 2015-08-31|\n",
      "|         US|   44331596| R1UE3RPRGCOLD|B002LHA74O|     818126353|Super Jumbo Playi...|            Toys|          2|            1|          1|   N|                Y|           Two Stars|Cards are not as ...| 2015-08-31|\n",
      "|         US|   23310293|R298788GS6I901|B00ARPLCGY|     261944918|Barbie Doll and F...|            Toys|          5|            0|          0|   N|                Y|my daughter loved...|my daughter loved...| 2015-08-31|\n",
      "|         US|   38745832|  RNX4EXOBBPN5|B00UZOPOFW|     717410439|Emazing Lights eL...|            Toys|          1|            1|          1|   N|                Y|     DONT BUY THESE!|Do not buy these!...| 2015-08-31|\n",
      "|         US|   13394189|R3BPETL222LMIM|B009B7F6CA|     873028700|Melissa & Doug Wa...|            Toys|          5|            0|          0|   N|                Y|          Five Stars|Great item. Pictu...| 2015-08-31|\n",
      "|         US|    2749569|R3SORMPJZO3F2J|B0101EHRSM|     723424342|Big Bang Cosmic P...|            Toys|          3|            2|          2|   N|                Y|         Three Stars|To keep together,...| 2015-08-31|\n",
      "|         US|   41137196|R2RDOJQ0WBZCF6|B00407S11Y|     383363775|Fun Express Insec...|            Toys|          5|            0|          0|   N|                Y|          Five Stars|I was pleased wit...| 2015-08-31|\n",
      "|         US|     433677|R2B8VBEPB4YEZ7|B00FGPU7U2|     780517568|Fisher-Price Octo...|            Toys|          5|            0|          0|   N|                Y|          Five Stars|    Children like it| 2015-08-31|\n",
      "|         US|    1297934|R1CB783I7B0U52|B0013OY0S0|     269360126|Claw Climber Goli...|            Toys|          1|            0|          1|   N|                Y|Shame on the sell...|Showed up not how...| 2015-08-31|\n",
      "|         US|   52006292| R2D90RQQ3V8LH|B00519PJTW|     493486387|100 Foot Multicol...|            Toys|          5|            0|          0|   N|                Y|          Five Stars|Really liked thes...| 2015-08-31|\n",
      "|         US|   32071052|R1Y4ZOUGFMJ327|B001TCY2DO|     459122467|Pig Jumbo Foil Ba...|            Toys|          5|            0|          0|   N|                Y|   Nice huge balloon|Nice huge balloon...| 2015-08-31|\n",
      "|         US|    7360347|R2BUV9QJI2A00X|B00DOQCWF8|     226984155|Minecraft Animal ...|            Toys|          5|            0|          1|   N|                Y|          Five Stars|          Great deal| 2015-08-31|\n",
      "|         US|   11613707| RSUHRJFJIRB3Z|B004C04I4I|     375659886|Disney Baby: Eeyo...|            Toys|          4|            0|          0|   N|                Y|          Four Stars|       As Advertised| 2015-08-31|\n",
      "|         US|   13545982|R1T96CG98BBA15|B00NWGEKBY|     933734136|Team Losi 8IGHT-E...|            Toys|          3|            2|          4|   N|                Y|... servo so expe...|Comes w a 15$ ser...| 2015-08-31|\n",
      "|         US|   43880421| R2ATXF4QQ30YW|B00000JS5S|     341842639|Hot Wheels 48- Ca...|            Toys|          5|            0|          0|   N|                Y|          Five Stars|   awesome ! Thanks!| 2015-08-31|\n",
      "|         US|    1662075|R1YS3DS218NNMD|B00XPWXYDK|     210135375|ZuZo 2.4GHz 4 CH ...|            Toys|          5|            4|          4|   N|                N|The closest relev...|I got this item f...| 2015-08-31|\n",
      "|         US|   18461411|R2SDXLTLF92O0H|B00VPXX92W|     705054378|Teenage Mutant Ni...|            Toys|          5|            0|          0|   N|                Y|          Five Stars|It was a birthday...| 2015-08-31|\n",
      "|         US|   27225859| R4R337CCDWLNG|B00YRA3H4U|     223420727|Franklin Sports M...|            Toys|          3|            0|          1|   Y|                N|Got wrong product...|Got a wrong produ...| 2015-08-31|\n",
      "|         US|   20494593|R32Z6UA4S5Q630|B009T8BSQY|     787701676|Alien Frontiers: ...|            Toys|          1|            0|          0|   N|                Y|         Overpriced.|You need expansio...| 2015-08-31|\n",
      "+-----------+-----------+--------------+----------+--------------+--------------------+----------------+-----------+-------------+-----------+----+-----------------+--------------------+--------------------+-----------+\n",
      "only showing top 20 rows\n",
      "\n"
     ]
    }
   ],
   "source": [
    "dataframe = spark.read.csv(SparkFiles.get(\"sample_us.tsv\"), sep=\"\\t\", schema=final, header=True)\n",
    "dataframe.show()"
   ]
  },
  {
   "cell_type": "code",
   "execution_count": 9,
   "metadata": {},
   "outputs": [
    {
     "data": {
      "text/plain": [
       "<bound method DataFrame.printSchema of DataFrame[marketplace: string, customer_id: int, reviewed_id: string, product_id: string, product_parent: int, product_title: string, product_category: string, star_rating: int, helpful_votes: int, total_votes: int, vine: string, verified_purchase: string, review_headline: string, review_body: string, review_date: date]>"
      ]
     },
     "execution_count": 9,
     "metadata": {},
     "output_type": "execute_result"
    }
   ],
   "source": [
    "dataframe.printSchema"
   ]
  },
  {
   "cell_type": "code",
   "execution_count": 13,
   "metadata": {},
   "outputs": [
    {
     "data": {
      "text/plain": [
       "Column<b'reviewed_id'>"
      ]
     },
     "execution_count": 13,
     "metadata": {},
     "output_type": "execute_result"
    }
   ],
   "source": [
    "dataframe['reviewed_id']"
   ]
  },
  {
   "cell_type": "code",
   "execution_count": 14,
   "metadata": {},
   "outputs": [
    {
     "data": {
      "text/plain": [
       "pyspark.sql.column.Column"
      ]
     },
     "execution_count": 14,
     "metadata": {},
     "output_type": "execute_result"
    }
   ],
   "source": [
    "type(dataframe['reviewed_id'])"
   ]
  },
  {
   "cell_type": "code",
   "execution_count": 15,
   "metadata": {},
   "outputs": [
    {
     "data": {
      "text/plain": [
       "DataFrame[reviewed_id: string]"
      ]
     },
     "execution_count": 15,
     "metadata": {},
     "output_type": "execute_result"
    }
   ],
   "source": [
    "dataframe.select('reviewed_id')"
   ]
  },
  {
   "cell_type": "code",
   "execution_count": 16,
   "metadata": {},
   "outputs": [
    {
     "data": {
      "text/plain": [
       "DataFrame[review_date: date]"
      ]
     },
     "execution_count": 16,
     "metadata": {},
     "output_type": "execute_result"
    }
   ],
   "source": [
    "dataframe.select('review_date')"
   ]
  },
  {
   "cell_type": "code",
   "execution_count": 17,
   "metadata": {},
   "outputs": [
    {
     "data": {
      "text/plain": [
       "pyspark.sql.dataframe.DataFrame"
      ]
     },
     "execution_count": 17,
     "metadata": {},
     "output_type": "execute_result"
    }
   ],
   "source": [
    "type(dataframe.select('reviewed_id'))"
   ]
  },
  {
   "cell_type": "code",
   "execution_count": 18,
   "metadata": {},
   "outputs": [
    {
     "name": "stdout",
     "output_type": "stream",
     "text": [
      "+--------------+\n",
      "|   reviewed_id|\n",
      "+--------------+\n",
      "| RDIJS7QYB6XNR|\n",
      "|R36ED1U38IELG8|\n",
      "| R1UE3RPRGCOLD|\n",
      "|R298788GS6I901|\n",
      "|  RNX4EXOBBPN5|\n",
      "|R3BPETL222LMIM|\n",
      "|R3SORMPJZO3F2J|\n",
      "|R2RDOJQ0WBZCF6|\n",
      "|R2B8VBEPB4YEZ7|\n",
      "|R1CB783I7B0U52|\n",
      "| R2D90RQQ3V8LH|\n",
      "|R1Y4ZOUGFMJ327|\n",
      "|R2BUV9QJI2A00X|\n",
      "| RSUHRJFJIRB3Z|\n",
      "|R1T96CG98BBA15|\n",
      "| R2ATXF4QQ30YW|\n",
      "|R1YS3DS218NNMD|\n",
      "|R2SDXLTLF92O0H|\n",
      "| R4R337CCDWLNG|\n",
      "|R32Z6UA4S5Q630|\n",
      "+--------------+\n",
      "only showing top 20 rows\n",
      "\n"
     ]
    }
   ],
   "source": [
    "dataframe.select('reviewed_id').show()"
   ]
  },
  {
   "cell_type": "code",
   "execution_count": 19,
   "metadata": {},
   "outputs": [
    {
     "name": "stdout",
     "output_type": "stream",
     "text": [
      "+-----------+-----------+--------------+----------+--------------+--------------------+----------------+-----------+-------------+-----------+----+-----------------+--------------------+--------------------+-----------+--------------+\n",
      "|marketplace|customer_id|   reviewed_id|product_id|product_parent|       product_title|product_category|star_rating|helpful_votes|total_votes|vine|verified_purchase|     review_headline|         review_body|review_date|customer_count|\n",
      "+-----------+-----------+--------------+----------+--------------+--------------------+----------------+-----------+-------------+-----------+----+-----------------+--------------------+--------------------+-----------+--------------+\n",
      "|         US|   18778586| RDIJS7QYB6XNR|B00EDBY7X8|     122952789|Monopoly Junior B...|            Toys|          5|            0|          0|   N|                Y|          Five Stars|        Excellent!!!| 2015-08-31|      18778586|\n",
      "|         US|   24769659|R36ED1U38IELG8|B00D7JFOPC|     952062646|56 Pieces of Wood...|            Toys|          5|            0|          0|   N|                Y|Good quality trac...|Great quality woo...| 2015-08-31|      24769659|\n",
      "|         US|   44331596| R1UE3RPRGCOLD|B002LHA74O|     818126353|Super Jumbo Playi...|            Toys|          2|            1|          1|   N|                Y|           Two Stars|Cards are not as ...| 2015-08-31|      44331596|\n",
      "|         US|   23310293|R298788GS6I901|B00ARPLCGY|     261944918|Barbie Doll and F...|            Toys|          5|            0|          0|   N|                Y|my daughter loved...|my daughter loved...| 2015-08-31|      23310293|\n",
      "|         US|   38745832|  RNX4EXOBBPN5|B00UZOPOFW|     717410439|Emazing Lights eL...|            Toys|          1|            1|          1|   N|                Y|     DONT BUY THESE!|Do not buy these!...| 2015-08-31|      38745832|\n",
      "|         US|   13394189|R3BPETL222LMIM|B009B7F6CA|     873028700|Melissa & Doug Wa...|            Toys|          5|            0|          0|   N|                Y|          Five Stars|Great item. Pictu...| 2015-08-31|      13394189|\n",
      "|         US|    2749569|R3SORMPJZO3F2J|B0101EHRSM|     723424342|Big Bang Cosmic P...|            Toys|          3|            2|          2|   N|                Y|         Three Stars|To keep together,...| 2015-08-31|       2749569|\n",
      "|         US|   41137196|R2RDOJQ0WBZCF6|B00407S11Y|     383363775|Fun Express Insec...|            Toys|          5|            0|          0|   N|                Y|          Five Stars|I was pleased wit...| 2015-08-31|      41137196|\n",
      "|         US|     433677|R2B8VBEPB4YEZ7|B00FGPU7U2|     780517568|Fisher-Price Octo...|            Toys|          5|            0|          0|   N|                Y|          Five Stars|    Children like it| 2015-08-31|        433677|\n",
      "|         US|    1297934|R1CB783I7B0U52|B0013OY0S0|     269360126|Claw Climber Goli...|            Toys|          1|            0|          1|   N|                Y|Shame on the sell...|Showed up not how...| 2015-08-31|       1297934|\n",
      "|         US|   52006292| R2D90RQQ3V8LH|B00519PJTW|     493486387|100 Foot Multicol...|            Toys|          5|            0|          0|   N|                Y|          Five Stars|Really liked thes...| 2015-08-31|      52006292|\n",
      "|         US|   32071052|R1Y4ZOUGFMJ327|B001TCY2DO|     459122467|Pig Jumbo Foil Ba...|            Toys|          5|            0|          0|   N|                Y|   Nice huge balloon|Nice huge balloon...| 2015-08-31|      32071052|\n",
      "|         US|    7360347|R2BUV9QJI2A00X|B00DOQCWF8|     226984155|Minecraft Animal ...|            Toys|          5|            0|          1|   N|                Y|          Five Stars|          Great deal| 2015-08-31|       7360347|\n",
      "|         US|   11613707| RSUHRJFJIRB3Z|B004C04I4I|     375659886|Disney Baby: Eeyo...|            Toys|          4|            0|          0|   N|                Y|          Four Stars|       As Advertised| 2015-08-31|      11613707|\n",
      "|         US|   13545982|R1T96CG98BBA15|B00NWGEKBY|     933734136|Team Losi 8IGHT-E...|            Toys|          3|            2|          4|   N|                Y|... servo so expe...|Comes w a 15$ ser...| 2015-08-31|      13545982|\n",
      "|         US|   43880421| R2ATXF4QQ30YW|B00000JS5S|     341842639|Hot Wheels 48- Ca...|            Toys|          5|            0|          0|   N|                Y|          Five Stars|   awesome ! Thanks!| 2015-08-31|      43880421|\n",
      "|         US|    1662075|R1YS3DS218NNMD|B00XPWXYDK|     210135375|ZuZo 2.4GHz 4 CH ...|            Toys|          5|            4|          4|   N|                N|The closest relev...|I got this item f...| 2015-08-31|       1662075|\n",
      "|         US|   18461411|R2SDXLTLF92O0H|B00VPXX92W|     705054378|Teenage Mutant Ni...|            Toys|          5|            0|          0|   N|                Y|          Five Stars|It was a birthday...| 2015-08-31|      18461411|\n",
      "|         US|   27225859| R4R337CCDWLNG|B00YRA3H4U|     223420727|Franklin Sports M...|            Toys|          3|            0|          1|   Y|                N|Got wrong product...|Got a wrong produ...| 2015-08-31|      27225859|\n",
      "|         US|   20494593|R32Z6UA4S5Q630|B009T8BSQY|     787701676|Alien Frontiers: ...|            Toys|          1|            0|          0|   N|                Y|         Overpriced.|You need expansio...| 2015-08-31|      20494593|\n",
      "+-----------+-----------+--------------+----------+--------------+--------------------+----------------+-----------+-------------+-----------+----+-----------------+--------------------+--------------------+-----------+--------------+\n",
      "only showing top 20 rows\n",
      "\n"
     ]
    }
   ],
   "source": [
    "dataframe.withColumn('customer_count', dataframe['customer_id']).show()"
   ]
  },
  {
   "cell_type": "code",
   "execution_count": 26,
   "metadata": {},
   "outputs": [],
   "source": [
    "#dataframe.withColumnRenamed('price','newerprice').show()\n",
    "#dataframe.withColumn('doubleprice',dataframe['price']*2).show()\n",
    "#dataframe.withColumn('add_one_dollar',dataframe['price']+1).show()\n",
    "#dataframe.withColumn('half_price',dataframe['price']/2).show()\n",
    "#dataframe.select(\"review_date\").collect()"
   ]
  },
  {
   "cell_type": "code",
   "execution_count": 27,
   "metadata": {},
   "outputs": [
    {
     "name": "stdout",
     "output_type": "stream",
     "text": [
      "+-----------+-----------+-------------+----------+--------------+--------------------+----------------+-----------+-------------+-----------+----+-----------------+---------------+------------+-----------+\n",
      "|marketplace|customer_id|  reviewed_id|product_id|product_parent|       product_title|product_category|star_rating|helpful_votes|total_votes|vine|verified_purchase|review_headline| review_body|review_date|\n",
      "+-----------+-----------+-------------+----------+--------------+--------------------+----------------+-----------+-------------+-----------+----+-----------------+---------------+------------+-----------+\n",
      "|         US|   18778586|RDIJS7QYB6XNR|B00EDBY7X8|     122952789|Monopoly Junior B...|            Toys|          5|            0|          0|   N|                Y|     Five Stars|Excellent!!!| 2015-08-31|\n",
      "+-----------+-----------+-------------+----------+--------------+--------------------+----------------+-----------+-------------+-----------+----+-----------------+---------------+------------+-----------+\n",
      "only showing top 1 row\n",
      "\n"
     ]
    }
   ],
   "source": [
    "dataframe.show(1)"
   ]
  },
  {
   "cell_type": "code",
   "execution_count": 28,
   "metadata": {},
   "outputs": [
    {
     "name": "stdout",
     "output_type": "stream",
     "text": [
      "+-------+--------------------+-----------------+------------------+------------------+\n",
      "|summary|         customer_id|      star_rating|     helpful_votes|       total_votes|\n",
      "+-------+--------------------+-----------------+------------------+------------------+\n",
      "|  count|                  49|               49|                49|                49|\n",
      "|   mean| 2.341812848979592E7|4.183673469387755|0.3469387755102041|0.6938775510204082|\n",
      "| stddev|1.5547165923534881E7|1.364329343605542|0.7514158970504523|1.2111303541295122|\n",
      "|    min|              125518|                1|                 0|                 0|\n",
      "|    max|            52006292|                5|                 4|                 6|\n",
      "+-------+--------------------+-----------------+------------------+------------------+\n",
      "\n"
     ]
    }
   ],
   "source": [
    "dataframe.select([\"customer_id\", \"star_rating\", \"helpful_votes\", \"total_votes\"]).describe().show()"
   ]
  },
  {
   "cell_type": "code",
   "execution_count": 29,
   "metadata": {},
   "outputs": [],
   "source": [
    "#df = df.withColumnRenamed('Salary', 'Salary (1k)')\n",
    "#df.select(\"Salary (1k)\").show()"
   ]
  },
  {
   "cell_type": "code",
   "execution_count": 30,
   "metadata": {},
   "outputs": [],
   "source": [
    "#df = df.withColumn(\"Salary\", df[\"Salary (1k)\"] * 1000)\n",
    "#df.select([\"Salary\", \"Salary (1k)\"]).show()"
   ]
  },
  {
   "cell_type": "code",
   "execution_count": 31,
   "metadata": {},
   "outputs": [],
   "source": [
    "import pandas as pd\n",
    "pandas_df = dataframe.toPandas() "
   ]
  },
  {
   "cell_type": "code",
   "execution_count": 32,
   "metadata": {},
   "outputs": [
    {
     "data": {
      "text/html": [
       "<div>\n",
       "<style scoped>\n",
       "    .dataframe tbody tr th:only-of-type {\n",
       "        vertical-align: middle;\n",
       "    }\n",
       "\n",
       "    .dataframe tbody tr th {\n",
       "        vertical-align: top;\n",
       "    }\n",
       "\n",
       "    .dataframe thead th {\n",
       "        text-align: right;\n",
       "    }\n",
       "</style>\n",
       "<table border=\"1\" class=\"dataframe\">\n",
       "  <thead>\n",
       "    <tr style=\"text-align: right;\">\n",
       "      <th></th>\n",
       "      <th>marketplace</th>\n",
       "      <th>customer_id</th>\n",
       "      <th>reviewed_id</th>\n",
       "      <th>product_id</th>\n",
       "      <th>product_parent</th>\n",
       "      <th>product_title</th>\n",
       "      <th>product_category</th>\n",
       "      <th>star_rating</th>\n",
       "      <th>helpful_votes</th>\n",
       "      <th>total_votes</th>\n",
       "      <th>vine</th>\n",
       "      <th>verified_purchase</th>\n",
       "      <th>review_headline</th>\n",
       "      <th>review_body</th>\n",
       "      <th>review_date</th>\n",
       "    </tr>\n",
       "  </thead>\n",
       "  <tbody>\n",
       "    <tr>\n",
       "      <th>0</th>\n",
       "      <td>US</td>\n",
       "      <td>18778586</td>\n",
       "      <td>RDIJS7QYB6XNR</td>\n",
       "      <td>B00EDBY7X8</td>\n",
       "      <td>122952789</td>\n",
       "      <td>Monopoly Junior Board Game</td>\n",
       "      <td>Toys</td>\n",
       "      <td>5</td>\n",
       "      <td>0</td>\n",
       "      <td>0</td>\n",
       "      <td>N</td>\n",
       "      <td>Y</td>\n",
       "      <td>Five Stars</td>\n",
       "      <td>Excellent!!!</td>\n",
       "      <td>2015-08-31</td>\n",
       "    </tr>\n",
       "    <tr>\n",
       "      <th>1</th>\n",
       "      <td>US</td>\n",
       "      <td>24769659</td>\n",
       "      <td>R36ED1U38IELG8</td>\n",
       "      <td>B00D7JFOPC</td>\n",
       "      <td>952062646</td>\n",
       "      <td>56 Pieces of Wooden Train Track Compatible wit...</td>\n",
       "      <td>Toys</td>\n",
       "      <td>5</td>\n",
       "      <td>0</td>\n",
       "      <td>0</td>\n",
       "      <td>N</td>\n",
       "      <td>Y</td>\n",
       "      <td>Good quality track at excellent price</td>\n",
       "      <td>Great quality wooden track (better than some o...</td>\n",
       "      <td>2015-08-31</td>\n",
       "    </tr>\n",
       "    <tr>\n",
       "      <th>2</th>\n",
       "      <td>US</td>\n",
       "      <td>44331596</td>\n",
       "      <td>R1UE3RPRGCOLD</td>\n",
       "      <td>B002LHA74O</td>\n",
       "      <td>818126353</td>\n",
       "      <td>Super Jumbo Playing Cards by S&amp;S Worldwide</td>\n",
       "      <td>Toys</td>\n",
       "      <td>2</td>\n",
       "      <td>1</td>\n",
       "      <td>1</td>\n",
       "      <td>N</td>\n",
       "      <td>Y</td>\n",
       "      <td>Two Stars</td>\n",
       "      <td>Cards are not as big as pictured.</td>\n",
       "      <td>2015-08-31</td>\n",
       "    </tr>\n",
       "    <tr>\n",
       "      <th>3</th>\n",
       "      <td>US</td>\n",
       "      <td>23310293</td>\n",
       "      <td>R298788GS6I901</td>\n",
       "      <td>B00ARPLCGY</td>\n",
       "      <td>261944918</td>\n",
       "      <td>Barbie Doll and Fashions Barbie Gift Set</td>\n",
       "      <td>Toys</td>\n",
       "      <td>5</td>\n",
       "      <td>0</td>\n",
       "      <td>0</td>\n",
       "      <td>N</td>\n",
       "      <td>Y</td>\n",
       "      <td>my daughter loved it and i liked the price and...</td>\n",
       "      <td>my daughter loved it and i liked the price and...</td>\n",
       "      <td>2015-08-31</td>\n",
       "    </tr>\n",
       "    <tr>\n",
       "      <th>4</th>\n",
       "      <td>US</td>\n",
       "      <td>38745832</td>\n",
       "      <td>RNX4EXOBBPN5</td>\n",
       "      <td>B00UZOPOFW</td>\n",
       "      <td>717410439</td>\n",
       "      <td>Emazing Lights eLite Flow Glow Sticks - Spinni...</td>\n",
       "      <td>Toys</td>\n",
       "      <td>1</td>\n",
       "      <td>1</td>\n",
       "      <td>1</td>\n",
       "      <td>N</td>\n",
       "      <td>Y</td>\n",
       "      <td>DONT BUY THESE!</td>\n",
       "      <td>Do not buy these! They break very fast I spun ...</td>\n",
       "      <td>2015-08-31</td>\n",
       "    </tr>\n",
       "  </tbody>\n",
       "</table>\n",
       "</div>"
      ],
      "text/plain": [
       "  marketplace  customer_id     reviewed_id  product_id  product_parent  \\\n",
       "0          US     18778586   RDIJS7QYB6XNR  B00EDBY7X8       122952789   \n",
       "1          US     24769659  R36ED1U38IELG8  B00D7JFOPC       952062646   \n",
       "2          US     44331596   R1UE3RPRGCOLD  B002LHA74O       818126353   \n",
       "3          US     23310293  R298788GS6I901  B00ARPLCGY       261944918   \n",
       "4          US     38745832    RNX4EXOBBPN5  B00UZOPOFW       717410439   \n",
       "\n",
       "                                       product_title product_category  \\\n",
       "0                         Monopoly Junior Board Game             Toys   \n",
       "1  56 Pieces of Wooden Train Track Compatible wit...             Toys   \n",
       "2         Super Jumbo Playing Cards by S&S Worldwide             Toys   \n",
       "3           Barbie Doll and Fashions Barbie Gift Set             Toys   \n",
       "4  Emazing Lights eLite Flow Glow Sticks - Spinni...             Toys   \n",
       "\n",
       "   star_rating  helpful_votes  total_votes vine verified_purchase  \\\n",
       "0            5              0            0    N                 Y   \n",
       "1            5              0            0    N                 Y   \n",
       "2            2              1            1    N                 Y   \n",
       "3            5              0            0    N                 Y   \n",
       "4            1              1            1    N                 Y   \n",
       "\n",
       "                                     review_headline  \\\n",
       "0                                         Five Stars   \n",
       "1              Good quality track at excellent price   \n",
       "2                                          Two Stars   \n",
       "3  my daughter loved it and i liked the price and...   \n",
       "4                                    DONT BUY THESE!   \n",
       "\n",
       "                                         review_body review_date  \n",
       "0                                       Excellent!!!  2015-08-31  \n",
       "1  Great quality wooden track (better than some o...  2015-08-31  \n",
       "2                  Cards are not as big as pictured.  2015-08-31  \n",
       "3  my daughter loved it and i liked the price and...  2015-08-31  \n",
       "4  Do not buy these! They break very fast I spun ...  2015-08-31  "
      ]
     },
     "execution_count": 32,
     "metadata": {},
     "output_type": "execute_result"
    }
   ],
   "source": [
    "pandas_df.head()"
   ]
  },
  {
   "cell_type": "code",
   "execution_count": 36,
   "metadata": {},
   "outputs": [
    {
     "name": "stdout",
     "output_type": "stream",
     "text": [
      "+-----------+-----------+--------------+----------+--------------+--------------------+----------------+-----------+-------------+-----------+----+-----------------+--------------------+--------------------+-----------+\n",
      "|marketplace|customer_id|   reviewed_id|product_id|product_parent|       product_title|product_category|star_rating|helpful_votes|total_votes|vine|verified_purchase|     review_headline|         review_body|review_date|\n",
      "+-----------+-----------+--------------+----------+--------------+--------------------+----------------+-----------+-------------+-----------+----+-----------------+--------------------+--------------------+-----------+\n",
      "|         US|   52006292| R2D90RQQ3V8LH|B00519PJTW|     493486387|100 Foot Multicol...|            Toys|          5|            0|          0|   N|                Y|          Five Stars|Really liked thes...| 2015-08-31|\n",
      "|         US|   47781982| RIDVQ4P3WJR42|B00WTGGGRO|     162262449|Pokemon - Double ...|            Toys|          5|            1|          1|   N|                Y|          Five Stars|My Grandson loves...| 2015-08-31|\n",
      "|         US|   47781982|R3AHZWWOL0IAV0|B00GNDY40U|     438056479|Pokemon - Gyarado...|            Toys|          5|            0|          0|   N|                Y|          Five Stars|My Grandson loves...| 2015-08-31|\n",
      "|         US|   47546726|R3NFZZCJSROBT4|B008W1BPWQ|     397107238|Peppa Pig 7 Wood ...|            Toys|          3|            0|          0|   N|                Y|         Three Stars|The product is go...| 2015-08-31|\n",
      "|         US|   45601416|R3OSJU70OIBWVE|B000PEOMC8|     895316207|Intex River Run I...|            Toys|          5|            0|          0|   N|                Y|but I've bought o...|Ended up sending ...| 2015-08-31|\n",
      "+-----------+-----------+--------------+----------+--------------+--------------------+----------------+-----------+-------------+-----------+----+-----------------+--------------------+--------------------+-----------+\n",
      "only showing top 5 rows\n",
      "\n"
     ]
    }
   ],
   "source": [
    "dataframe.orderBy(dataframe[\"customer_id\"].desc()).show(5)"
   ]
  },
  {
   "cell_type": "code",
   "execution_count": 37,
   "metadata": {},
   "outputs": [
    {
     "name": "stdout",
     "output_type": "stream",
     "text": [
      "+-----------------+\n",
      "| avg(star_rating)|\n",
      "+-----------------+\n",
      "|4.183673469387755|\n",
      "+-----------------+\n",
      "\n"
     ]
    }
   ],
   "source": [
    "from pyspark.sql.functions import avg\n",
    "dataframe.select(avg(\"star_rating\")).show()"
   ]
  },
  {
   "cell_type": "code",
   "execution_count": 38,
   "metadata": {},
   "outputs": [
    {
     "name": "stdout",
     "output_type": "stream",
     "text": [
      "+-----------+-----------+--------------+----------+--------------+--------------------+----------------+-----------+-------------+-----------+----+-----------------+--------------------+--------------------+-----------+\n",
      "|marketplace|customer_id|   reviewed_id|product_id|product_parent|       product_title|product_category|star_rating|helpful_votes|total_votes|vine|verified_purchase|     review_headline|         review_body|review_date|\n",
      "+-----------+-----------+--------------+----------+--------------+--------------------+----------------+-----------+-------------+-----------+----+-----------------+--------------------+--------------------+-----------+\n",
      "|         US|   38745832|  RNX4EXOBBPN5|B00UZOPOFW|     717410439|Emazing Lights eL...|            Toys|          1|            1|          1|   N|                Y|     DONT BUY THESE!|Do not buy these!...| 2015-08-31|\n",
      "|         US|    1297934|R1CB783I7B0U52|B0013OY0S0|     269360126|Claw Climber Goli...|            Toys|          1|            0|          1|   N|                Y|Shame on the sell...|Showed up not how...| 2015-08-31|\n",
      "|         US|   20494593|R32Z6UA4S5Q630|B009T8BSQY|     787701676|Alien Frontiers: ...|            Toys|          1|            0|          0|   N|                Y|         Overpriced.|You need expansio...| 2015-08-31|\n",
      "|         US|   42523709| RO5VL1EAPX6O3|B004CLZRM4|      59085350|Intex Mesh Lounge...|            Toys|          1|            0|          0|   N|                Y|Save your money.....|This was to be a ...| 2015-08-31|\n",
      "|         US|   34874898|R1WQ3ME3JAG2O1|B00WAKEQLW|     824555589|Whiffer Sniffers ...|            Toys|          1|            0|          6|   N|                Y|            One Star|Received a pineap...| 2015-08-31|\n",
      "+-----------+-----------+--------------+----------+--------------+--------------------+----------------+-----------+-------------+-----------+----+-----------------+--------------------+--------------------+-----------+\n",
      "\n"
     ]
    }
   ],
   "source": [
    "dataframe.filter(\"star_rating<2\").show()"
   ]
  },
  {
   "cell_type": "code",
   "execution_count": 39,
   "metadata": {},
   "outputs": [
    {
     "name": "stdout",
     "output_type": "stream",
     "text": [
      "+--------------------+-----------------+--------------------+-----------+\n",
      "|       product_title|verified_purchase|     review_headline|total_votes|\n",
      "+--------------------+-----------------+--------------------+-----------+\n",
      "|Emazing Lights eL...|                Y|     DONT BUY THESE!|          1|\n",
      "|Claw Climber Goli...|                Y|Shame on the sell...|          1|\n",
      "|Alien Frontiers: ...|                Y|         Overpriced.|          0|\n",
      "|Intex Mesh Lounge...|                Y|Save your money.....|          0|\n",
      "|Whiffer Sniffers ...|                Y|            One Star|          6|\n",
      "+--------------------+-----------------+--------------------+-----------+\n",
      "\n"
     ]
    }
   ],
   "source": [
    "dataframe.filter(\"star_rating<2\").select(['product_title','verified_purchase', 'review_headline','total_votes']).show()"
   ]
  },
  {
   "cell_type": "code",
   "execution_count": null,
   "metadata": {},
   "outputs": [],
   "source": [
    "#df.filter(df[\"price\"] < 200).show()\n",
    "#df.filter( (df[\"price\"] < 200) | (df['points'] > 80) ).show()\n",
    "#df.filter(df[\"country\"] == \"US\").show()"
   ]
  },
  {
   "cell_type": "code",
   "execution_count": 40,
   "metadata": {},
   "outputs": [],
   "source": [
    "##What occupation had the highest salary?\n",
    "#df.orderBy(df[\"Salary\"].desc()).select(\"occupation\", \"Salary\").limit(1).show()\n",
    "## What occupation had the lowest salary?\n",
    "#df.orderBy(df[\"Salary\"]).select(\"occupation\", \"Salary\").limit(1).show()\n",
    "\n",
    "## What is the mean salary of this dataset?\n",
    "#from pyspark.sql.functions import mean\n",
    "#df.select(mean(\"Salary\")).show()\n",
    "\n",
    "## What is the max and min of the Salary column?\n",
    "#from pyspark.sql.functions import max, min\n",
    "#df.select(max(\"Salary\"), min(\"Salary\")).show()\n",
    "\n",
    "## Show all of the occupations where salaries were above 80k\n",
    "#from pyspark.sql.functions import count\n",
    "#df.filter(\"Salary > 80\").select(\"occupation\").show(df.count(), False)\n",
    "\n",
    "## What is the average age and height for each academic degree type?\n",
    "## HINT: You will need to use `groupby` to solve this\n",
    "#avg_df = df.groupBy(\"academic_degree\").avg()\n",
    "#avg_df.select(\"academic_degree\", \"avg(age)\", \"avg(height_meter)\").show()"
   ]
  },
  {
   "cell_type": "code",
   "execution_count": null,
   "metadata": {},
   "outputs": [],
   "source": [
    "#from pyspark.sql.functions import year\n",
    "## Show the year for the date column\n",
    "#df.select(year(df[\"date\"])).show()\n",
    "\n",
    "#df = df.withColumn(\"year\", year(df['date']))\n",
    "#df.show()\n",
    "\n",
    "#averages = df.groupBy(\"year\").avg()\n",
    "#averages.orderBy(\"year\").select(\"year\", \"avg(prcp)\").show()\n",
    "\n",
    "#from pyspark.sql.functions import month\n",
    "#df.select(month(df['Date'])).show()\n",
    "\n",
    "#df = df.withColumn(\"month\", month(df['date']))\n",
    "#df.head()\n",
    "\n",
    "#averages = df.groupBy(\"month\").max()\n",
    "#averages.orderBy(\"month\").select(\"month\", \"max(prcp)\").show()"
   ]
  }
 ],
 "metadata": {
  "kernelspec": {
   "display_name": "Python 3",
   "language": "python",
   "name": "python3"
  },
  "language_info": {
   "codemirror_mode": {
    "name": "ipython",
    "version": 3
   },
   "file_extension": ".py",
   "mimetype": "text/x-python",
   "name": "python",
   "nbconvert_exporter": "python",
   "pygments_lexer": "ipython3",
   "version": "3.7.2"
  }
 },
 "nbformat": 4,
 "nbformat_minor": 2
}
